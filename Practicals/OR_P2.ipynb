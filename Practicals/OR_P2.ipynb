{
  "nbformat": 4,
  "nbformat_minor": 0,
  "metadata": {
    "colab": {
      "name": "OR_P2.ipynb",
      "provenance": []
    },
    "kernelspec": {
      "name": "python3",
      "display_name": "Python 3"
    },
    "language_info": {
      "name": "python"
    }
  },
  "cells": [
    {
      "cell_type": "code",
      "execution_count": null,
      "metadata": {
        "id": "WNV12JRTfi5Y"
      },
      "outputs": [],
      "source": [
        "from scipy.optimize import linprog"
      ]
    },
    {
      "cell_type": "code",
      "source": [
        "obj = [-3,-2]\n",
        "lhs_ineq = [[1,1],[1,-1]]\n",
        "rhs_ineq = [4,2]\n",
        "bnd=[(0,float(\"inf\")),\n",
        "     (0, float(\"inf\"))]\n",
        "\n",
        "opt = linprog(c=obj, A_ub = lhs_ineq, b_ub = rhs_ineq, bounds = bnd, method = \"revised simplex\")\n",
        "opt"
      ],
      "metadata": {
        "colab": {
          "base_uri": "https://localhost:8080/"
        },
        "id": "0vcxqCD1f8Xj",
        "outputId": "01c06009-6cba-41c9-baa6-898747ca0890"
      },
      "execution_count": null,
      "outputs": [
        {
          "output_type": "execute_result",
          "data": {
            "text/plain": [
              "     con: array([], dtype=float64)\n",
              "     fun: -11.0\n",
              " message: 'Optimization terminated successfully.'\n",
              "     nit: 2\n",
              "   slack: array([0., 0.])\n",
              "  status: 0\n",
              " success: True\n",
              "       x: array([3., 1.])"
            ]
          },
          "metadata": {},
          "execution_count": 3
        }
      ]
    },
    {
      "cell_type": "code",
      "source": [
        "print(opt.fun)"
      ],
      "metadata": {
        "colab": {
          "base_uri": "https://localhost:8080/"
        },
        "id": "PPiwMIv4iCrK",
        "outputId": "d9b8cd5f-cf23-4dee-a092-e8f13248892a"
      },
      "execution_count": null,
      "outputs": [
        {
          "output_type": "stream",
          "name": "stdout",
          "text": [
            "-11.0\n"
          ]
        }
      ]
    },
    {
      "cell_type": "code",
      "source": [
        "print(opt.success)"
      ],
      "metadata": {
        "colab": {
          "base_uri": "https://localhost:8080/"
        },
        "id": "6BA7iUmCiNwI",
        "outputId": "7eb22f66-be4e-4a77-c6d1-07a31df950d6"
      },
      "execution_count": null,
      "outputs": [
        {
          "output_type": "stream",
          "name": "stdout",
          "text": [
            "True\n"
          ]
        }
      ]
    },
    {
      "cell_type": "code",
      "source": [
        "print(opt.x)"
      ],
      "metadata": {
        "colab": {
          "base_uri": "https://localhost:8080/"
        },
        "id": "lz418jWiiQXA",
        "outputId": "6c0f7f06-29ec-4c16-c7e4-f6b6d2442504"
      },
      "execution_count": null,
      "outputs": [
        {
          "output_type": "stream",
          "name": "stdout",
          "text": [
            "[3. 1.]\n"
          ]
        }
      ]
    },
    {
      "cell_type": "code",
      "source": [
        ""
      ],
      "metadata": {
        "id": "8OIXuWusiWjI"
      },
      "execution_count": null,
      "outputs": []
    }
  ]
}