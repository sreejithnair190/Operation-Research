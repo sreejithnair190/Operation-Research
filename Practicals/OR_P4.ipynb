{
  "nbformat": 4,
  "nbformat_minor": 0,
  "metadata": {
    "colab": {
      "name": "OR_P4.ipynb",
      "provenance": []
    },
    "kernelspec": {
      "name": "python3",
      "display_name": "Python 3"
    },
    "language_info": {
      "name": "python"
    }
  },
  "cells": [
    {
      "cell_type": "code",
      "execution_count": null,
      "metadata": {
        "id": "z1dn7Gt4mYyN"
      },
      "outputs": [],
      "source": [
        "from scipy.optimize import linprog"
      ]
    },
    {
      "cell_type": "code",
      "source": [
        "obj = [-1,-2]\n",
        "\n",
        "lhs_ineq = [[2,1], [-4,5], [1,-2]]\n",
        "rhs_ineq = [20,10,2]\n",
        "\n",
        "lhs_eq = [[-1, 5]]\n",
        "rhs_eq = [15]\n",
        "\n",
        "bnd=[(0,float(\"inf\")),\n",
        "     (0, float(\"inf\"))]\n",
        "     \n",
        "opt = linprog(c=obj, A_ub = lhs_ineq, b_ub = rhs_ineq,A_eq = lhs_eq, b_eq = rhs_eq, bounds = bnd, method = \"revised simplex\")\n",
        "opt"
      ],
      "metadata": {
        "colab": {
          "base_uri": "https://localhost:8080/"
        },
        "id": "62ZpbQwImZve",
        "outputId": "c055557b-e961-4fbf-a3cd-4ac7519c7f29"
      },
      "execution_count": null,
      "outputs": [
        {
          "output_type": "execute_result",
          "data": {
            "text/plain": [
              "     con: array([0.])\n",
              "     fun: -16.818181818181817\n",
              " message: 'Optimization terminated successfully.'\n",
              "     nit: 3\n",
              "   slack: array([ 0.        , 18.18181818,  3.36363636])\n",
              "  status: 0\n",
              " success: True\n",
              "       x: array([7.72727273, 4.54545455])"
            ]
          },
          "metadata": {},
          "execution_count": 4
        }
      ]
    },
    {
      "cell_type": "code",
      "source": [
        "print(opt.fun)"
      ],
      "metadata": {
        "colab": {
          "base_uri": "https://localhost:8080/"
        },
        "id": "MrcLTyW2n3bs",
        "outputId": "a1f8b140-59a8-4385-c33d-01cfd6810898"
      },
      "execution_count": null,
      "outputs": [
        {
          "output_type": "stream",
          "name": "stdout",
          "text": [
            "-16.818181818181817\n"
          ]
        }
      ]
    },
    {
      "cell_type": "code",
      "source": [
        "print(opt.success)"
      ],
      "metadata": {
        "colab": {
          "base_uri": "https://localhost:8080/"
        },
        "id": "qAlqSldXpI9b",
        "outputId": "a37899cf-1fa9-4950-ad38-8bb79ad3ab52"
      },
      "execution_count": null,
      "outputs": [
        {
          "output_type": "stream",
          "name": "stdout",
          "text": [
            "True\n"
          ]
        }
      ]
    },
    {
      "cell_type": "code",
      "source": [
        "print(opt.x)"
      ],
      "metadata": {
        "colab": {
          "base_uri": "https://localhost:8080/"
        },
        "id": "QYCAop8OpN1y",
        "outputId": "4fa4714a-9130-4947-ba47-72b34f097476"
      },
      "execution_count": null,
      "outputs": [
        {
          "output_type": "stream",
          "name": "stdout",
          "text": [
            "[7.72727273 4.54545455]\n"
          ]
        }
      ]
    },
    {
      "cell_type": "code",
      "source": [
        ""
      ],
      "metadata": {
        "id": "CgeCgGLjpQsi"
      },
      "execution_count": null,
      "outputs": []
    }
  ]
}