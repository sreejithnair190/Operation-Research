{
  "nbformat": 4,
  "nbformat_minor": 0,
  "metadata": {
    "colab": {
      "name": "OR_P5.ipynb",
      "provenance": []
    },
    "kernelspec": {
      "name": "python3",
      "display_name": "Python 3"
    },
    "language_info": {
      "name": "python"
    }
  },
  "cells": [
    {
      "cell_type": "code",
      "execution_count": null,
      "metadata": {
        "id": "waL_hWHEiwdY"
      },
      "outputs": [],
      "source": [
        "from scipy.optimize import linprog"
      ]
    },
    {
      "cell_type": "code",
      "source": [
        "obj = [4,1]\n",
        "lhs_ineq = [[-3,-4], [-1,-5]]\n",
        "rhs_ineq = [-20,-15]\n",
        "\n",
        "bnd=[(0,float(\"inf\")),\n",
        "     (0, float(\"inf\"))]\n",
        "\n",
        "opt = linprog(c=obj, A_ub = lhs_ineq, b_ub = rhs_ineq, bounds = bnd, method = \"revised simplex\")\n",
        "opt"
      ],
      "metadata": {
        "colab": {
          "base_uri": "https://localhost:8080/"
        },
        "id": "jbOKfmoLixUu",
        "outputId": "51e59d34-553e-4ea8-fd91-6fb3c9a62df2"
      },
      "execution_count": null,
      "outputs": [
        {
          "output_type": "execute_result",
          "data": {
            "text/plain": [
              "     con: array([], dtype=float64)\n",
              "     fun: 4.999999999999998\n",
              " message: 'Optimization terminated successfully.'\n",
              "     nit: 3\n",
              "   slack: array([ 0., 10.])\n",
              "  status: 0\n",
              " success: True\n",
              "       x: array([-4.4408921e-16,  5.0000000e+00])"
            ]
          },
          "metadata": {},
          "execution_count": 6
        }
      ]
    },
    {
      "cell_type": "code",
      "source": [
        "opt.fun"
      ],
      "metadata": {
        "colab": {
          "base_uri": "https://localhost:8080/"
        },
        "id": "COM9DpNDki9g",
        "outputId": "995d3fbd-27af-4ff7-f90f-82bc7788bb50"
      },
      "execution_count": null,
      "outputs": [
        {
          "output_type": "execute_result",
          "data": {
            "text/plain": [
              "4.999999999999998"
            ]
          },
          "metadata": {},
          "execution_count": 3
        }
      ]
    },
    {
      "cell_type": "code",
      "source": [
        "opt.success"
      ],
      "metadata": {
        "colab": {
          "base_uri": "https://localhost:8080/"
        },
        "id": "kIdXda3-lOka",
        "outputId": "5db1598e-04b7-4123-d932-9ee0d3d8aabb"
      },
      "execution_count": null,
      "outputs": [
        {
          "output_type": "execute_result",
          "data": {
            "text/plain": [
              "True"
            ]
          },
          "metadata": {},
          "execution_count": 4
        }
      ]
    },
    {
      "cell_type": "code",
      "source": [
        "opt.x"
      ],
      "metadata": {
        "id": "G1rPohFalRwh",
        "outputId": "e8d4511f-c84f-4c75-dd32-d4a17db0ccf7",
        "colab": {
          "base_uri": "https://localhost:8080/"
        }
      },
      "execution_count": null,
      "outputs": [
        {
          "output_type": "execute_result",
          "data": {
            "text/plain": [
              "array([-4.4408921e-16,  5.0000000e+00])"
            ]
          },
          "metadata": {},
          "execution_count": 5
        }
      ]
    },
    {
      "cell_type": "code",
      "source": [
        ""
      ],
      "metadata": {
        "id": "rHhOgN6ZlVfq"
      },
      "execution_count": null,
      "outputs": []
    }
  ]
}